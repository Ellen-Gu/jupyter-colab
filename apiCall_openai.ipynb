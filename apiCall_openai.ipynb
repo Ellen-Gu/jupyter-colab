{
  "nbformat": 4,
  "nbformat_minor": 0,
  "metadata": {
    "colab": {
      "provenance": [],
      "authorship_tag": "ABX9TyP6dgcyMiuyerBZtmovPy1N",
      "include_colab_link": true
    },
    "kernelspec": {
      "name": "python3",
      "display_name": "Python 3"
    },
    "language_info": {
      "name": "python"
    }
  },
  "cells": [
    {
      "cell_type": "markdown",
      "metadata": {
        "id": "view-in-github",
        "colab_type": "text"
      },
      "source": [
        "<a href=\"https://colab.research.google.com/github/Ellen-Gu/jupyter-colab/blob/main/apiCall_openai.ipynb\" target=\"_parent\"><img src=\"https://colab.research.google.com/assets/colab-badge.svg\" alt=\"Open In Colab\"/></a>"
      ]
    },
    {
      "cell_type": "markdown",
      "source": [
        "To practice openai api call in python. given user's prompt, the ai(pmt) is for getting response from openai, display and return ai's response. The exe() is to extract python code snips from ai's response and exec them. After ai(pmt), user may want to test run the code if the codes are simple enough and no modifications are needed."
      ],
      "metadata": {
        "id": "kmIFsOuUMR9R"
      }
    },
    {
      "cell_type": "code",
      "source": [
        "!pip install openai"
      ],
      "metadata": {
        "colab": {
          "base_uri": "https://localhost:8080/"
        },
        "id": "lh9o_7trxbWT",
        "outputId": "ebc44cdb-92c7-48a9-c062-875df815d8b4"
      },
      "execution_count": 2,
      "outputs": [
        {
          "output_type": "stream",
          "name": "stdout",
          "text": [
            "Collecting openai\n",
            "  Downloading openai-0.27.8-py3-none-any.whl (73 kB)\n",
            "\u001b[2K     \u001b[90m━━━━━━━━━━━━━━━━━━━━━━━━━━━━━━━━━━━━━━━━\u001b[0m \u001b[32m73.6/73.6 kB\u001b[0m \u001b[31m1.1 MB/s\u001b[0m eta \u001b[36m0:00:00\u001b[0m\n",
            "\u001b[?25hRequirement already satisfied: requests>=2.20 in /usr/local/lib/python3.10/dist-packages (from openai) (2.27.1)\n",
            "Requirement already satisfied: tqdm in /usr/local/lib/python3.10/dist-packages (from openai) (4.65.0)\n",
            "Requirement already satisfied: aiohttp in /usr/local/lib/python3.10/dist-packages (from openai) (3.8.5)\n",
            "Requirement already satisfied: urllib3<1.27,>=1.21.1 in /usr/local/lib/python3.10/dist-packages (from requests>=2.20->openai) (1.26.16)\n",
            "Requirement already satisfied: certifi>=2017.4.17 in /usr/local/lib/python3.10/dist-packages (from requests>=2.20->openai) (2023.7.22)\n",
            "Requirement already satisfied: charset-normalizer~=2.0.0 in /usr/local/lib/python3.10/dist-packages (from requests>=2.20->openai) (2.0.12)\n",
            "Requirement already satisfied: idna<4,>=2.5 in /usr/local/lib/python3.10/dist-packages (from requests>=2.20->openai) (3.4)\n",
            "Requirement already satisfied: attrs>=17.3.0 in /usr/local/lib/python3.10/dist-packages (from aiohttp->openai) (23.1.0)\n",
            "Requirement already satisfied: multidict<7.0,>=4.5 in /usr/local/lib/python3.10/dist-packages (from aiohttp->openai) (6.0.4)\n",
            "Requirement already satisfied: async-timeout<5.0,>=4.0.0a3 in /usr/local/lib/python3.10/dist-packages (from aiohttp->openai) (4.0.2)\n",
            "Requirement already satisfied: yarl<2.0,>=1.0 in /usr/local/lib/python3.10/dist-packages (from aiohttp->openai) (1.9.2)\n",
            "Requirement already satisfied: frozenlist>=1.1.1 in /usr/local/lib/python3.10/dist-packages (from aiohttp->openai) (1.4.0)\n",
            "Requirement already satisfied: aiosignal>=1.1.2 in /usr/local/lib/python3.10/dist-packages (from aiohttp->openai) (1.3.1)\n",
            "Installing collected packages: openai\n",
            "Successfully installed openai-0.27.8\n"
          ]
        }
      ]
    },
    {
      "cell_type": "code",
      "execution_count": 3,
      "metadata": {
        "id": "JabDpQ0dxUJx"
      },
      "outputs": [],
      "source": [
        "import pandas as pd, numpy as np \\\n",
        "       ,matplotlib.pyplot as plt \\\n",
        "       ,seaborn as sns \\\n",
        "       ,statsmodels as sm \\\n",
        "       ,os,sys,re,openai\n",
        "from IPython.core.interactiveshell import InteractiveShell\n",
        "InteractiveShell.ast_node_interactivity = \"all\"\n",
        "%load_ext rpy2.ipython\n",
        "#pd.options.display.max_columns = 20\n",
        "#pd.options.display.max_rows = 20\n",
        "#pd.options.display.max_colwidth = 80\n",
        "np.set_printoptions(precision=4, suppress=True)\n",
        "\n",
        "def ai(pmt, model=\"gpt-3.5-turbo\", temperature=0, max_tokens=1024):\n",
        "    # Generate the response based on the provided message\n",
        "    response = openai.ChatCompletion.create(\n",
        "        model=model,\n",
        "        messages=[{\"role\": \"user\", \"content\":pmt}],\n",
        "        temperature=temperature,\n",
        "        max_tokens=max_tokens\n",
        "    ).choices[0].message['content']\n",
        "\n",
        "    # Display the message contents\n",
        "    print(f\"\\033[1m\\033[95mUser:\\033[0m {pmt}\\033[0m\")\n",
        "    print(f\"\\033[1m\\033[38;5;28m  AI:\\033[0m {response}\\033[0m\")\n",
        "\n",
        "    return response\n",
        "\n",
        "def exe(response):\n",
        "    # Extract python code from the response\n",
        "    code_blocks = re.findall(r'```python(.*?)```', response, re.DOTALL)\n",
        "\n",
        "    if code_blocks:\n",
        "        codes = [match.strip() for match in code_blocks]\n",
        "    else:\n",
        "        codes = [response.strip()]\n",
        "    # Print comment for user\n",
        "    print(\"\\033[1m\\033[38;5;28m\\nExecuting codes from OpenAI response...\\033[0m\")\n",
        "\n",
        "    # Execute the extracted code\n",
        "    for code in codes:\n",
        "        exec(code)\n",
        "\n",
        "## Example usage (get openai api key first)\n",
        "#  openai.api_key =#os.getenv(\"OPENAI_API_KEY\")\n",
        "\n",
        "#  pmt = \"py code for printing 'Hello, World!'\"\n",
        "#  response = ai(pmt)\n",
        "\n",
        "## Optional: Execute the code from the response\n",
        "#  exe(response)"
      ]
    },
    {
      "cell_type": "code",
      "source": [
        "pmt = \"py code for printing 'Hello, World!'\"\n",
        "response = ai(pmt)\n",
        "exe(response)"
      ],
      "metadata": {
        "colab": {
          "base_uri": "https://localhost:8080/"
        },
        "id": "ve_J2TLM1hhK",
        "outputId": "a09046da-531f-44fd-d3af-931748beb082"
      },
      "execution_count": 6,
      "outputs": [
        {
          "output_type": "stream",
          "name": "stdout",
          "text": [
            "\u001b[1m\u001b[95mUser:\u001b[0m py code for printing 'Hello, World!'\u001b[0m\n",
            "\u001b[1m\u001b[38;5;28m  AI:\u001b[0m print('Hello, World!')\u001b[0m\n",
            "\u001b[1m\u001b[38;5;28m\n",
            "Executing codes from OpenAI response...\u001b[0m\n",
            "Hello, World!\n"
          ]
        }
      ]
    },
    {
      "cell_type": "code",
      "source": [
        "pmt =\"py code for list all item in a pd enumerate\"\n",
        "response = ai(pmt)\n",
        "exe(response)"
      ],
      "metadata": {
        "colab": {
          "base_uri": "https://localhost:8080/"
        },
        "id": "p95v38Dw3pQ_",
        "outputId": "06a3004b-c87d-4dcc-ce3d-2cef5a7be19f"
      },
      "execution_count": 7,
      "outputs": [
        {
          "output_type": "stream",
          "name": "stdout",
          "text": [
            "\u001b[1m\u001b[95mUser:\u001b[0m py code for list all item in a pd enumerate\u001b[0m\n",
            "\u001b[1m\u001b[38;5;28m  AI:\u001b[0m Here is an example of Python code to list all items in a Pandas DataFrame using the `enumerate` function:\n",
            "\n",
            "```python\n",
            "import pandas as pd\n",
            "\n",
            "# Create a sample DataFrame\n",
            "data = {'Name': ['John', 'Emma', 'Mike'],\n",
            "        'Age': [25, 30, 35],\n",
            "        'City': ['New York', 'London', 'Paris']}\n",
            "df = pd.DataFrame(data)\n",
            "\n",
            "# Use enumerate to list all items in the DataFrame\n",
            "for index, row in enumerate(df.iterrows()):\n",
            "    print(f\"Row {index + 1}:\")\n",
            "    for column, value in row[1].items():\n",
            "        print(f\"{column}: {value}\")\n",
            "    print()\n",
            "```\n",
            "\n",
            "This code will iterate over each row in the DataFrame using the `iterrows` function. The `enumerate` function is used to get the index of each row. Then, for each row, it will iterate over each column and print the column name and corresponding value.\u001b[0m\n",
            "\u001b[1m\u001b[38;5;28m\n",
            "Executing codes from OpenAI response...\u001b[0m\n",
            "Row 1:\n",
            "Name: John\n",
            "Age: 25\n",
            "City: New York\n",
            "\n",
            "Row 2:\n",
            "Name: Emma\n",
            "Age: 30\n",
            "City: London\n",
            "\n",
            "Row 3:\n",
            "Name: Mike\n",
            "Age: 35\n",
            "City: Paris\n",
            "\n"
          ]
        }
      ]
    }
  ]
}