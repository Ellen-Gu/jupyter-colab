{
  "nbformat": 4,
  "nbformat_minor": 0,
  "metadata": {
    "colab": {
      "provenance": [],
      "authorship_tag": "ABX9TyPsSbqhf+QA0VFKEb6pSBot",
      "include_colab_link": true
    },
    "kernelspec": {
      "name": "python3",
      "display_name": "Python 3"
    },
    "language_info": {
      "name": "python"
    }
  },
  "cells": [
    {
      "cell_type": "markdown",
      "metadata": {
        "id": "view-in-github",
        "colab_type": "text"
      },
      "source": [
        "<a href=\"https://colab.research.google.com/github/Ellen-Gu/jupyter-colab/blob/main/apiCall_openai.ipynb\" target=\"_parent\"><img src=\"https://colab.research.google.com/assets/colab-badge.svg\" alt=\"Open In Colab\"/></a>"
      ]
    },
    {
      "cell_type": "markdown",
      "source": [
        "To practice openai api call in python. given user's prompt, the ai(pmt) is for getting response from openai, display and return ai's response. The exe() is to extract python code snips from ai's response and exec them. After ai(pmt), user may want to test run the code if the codes are simple enough and no modifications are needed."
      ],
      "metadata": {
        "id": "kmIFsOuUMR9R"
      }
    },
    {
      "cell_type": "code",
      "source": [
        "!pip install openai"
      ],
      "metadata": {
        "colab": {
          "base_uri": "https://localhost:8080/"
        },
        "id": "lh9o_7trxbWT",
        "outputId": "a1be0900-2e62-4aa2-bd06-f0bc8671ea79"
      },
      "execution_count": null,
      "outputs": [
        {
          "output_type": "stream",
          "name": "stdout",
          "text": [
            "Requirement already satisfied: openai in /usr/local/lib/python3.10/dist-packages (0.27.8)\n",
            "Requirement already satisfied: requests>=2.20 in /usr/local/lib/python3.10/dist-packages (from openai) (2.27.1)\n",
            "Requirement already satisfied: tqdm in /usr/local/lib/python3.10/dist-packages (from openai) (4.65.0)\n",
            "Requirement already satisfied: aiohttp in /usr/local/lib/python3.10/dist-packages (from openai) (3.8.5)\n",
            "Requirement already satisfied: urllib3<1.27,>=1.21.1 in /usr/local/lib/python3.10/dist-packages (from requests>=2.20->openai) (1.26.16)\n",
            "Requirement already satisfied: certifi>=2017.4.17 in /usr/local/lib/python3.10/dist-packages (from requests>=2.20->openai) (2023.7.22)\n",
            "Requirement already satisfied: charset-normalizer~=2.0.0 in /usr/local/lib/python3.10/dist-packages (from requests>=2.20->openai) (2.0.12)\n",
            "Requirement already satisfied: idna<4,>=2.5 in /usr/local/lib/python3.10/dist-packages (from requests>=2.20->openai) (3.4)\n",
            "Requirement already satisfied: attrs>=17.3.0 in /usr/local/lib/python3.10/dist-packages (from aiohttp->openai) (23.1.0)\n",
            "Requirement already satisfied: multidict<7.0,>=4.5 in /usr/local/lib/python3.10/dist-packages (from aiohttp->openai) (6.0.4)\n",
            "Requirement already satisfied: async-timeout<5.0,>=4.0.0a3 in /usr/local/lib/python3.10/dist-packages (from aiohttp->openai) (4.0.2)\n",
            "Requirement already satisfied: yarl<2.0,>=1.0 in /usr/local/lib/python3.10/dist-packages (from aiohttp->openai) (1.9.2)\n",
            "Requirement already satisfied: frozenlist>=1.1.1 in /usr/local/lib/python3.10/dist-packages (from aiohttp->openai) (1.4.0)\n",
            "Requirement already satisfied: aiosignal>=1.1.2 in /usr/local/lib/python3.10/dist-packages (from aiohttp->openai) (1.3.1)\n"
          ]
        }
      ]
    },
    {
      "cell_type": "code",
      "execution_count": null,
      "metadata": {
        "id": "JabDpQ0dxUJx"
      },
      "outputs": [],
      "source": [
        "import pandas as pd, numpy as np \\\n",
        "       ,matplotlib.pyplot as plt \\\n",
        "       ,seaborn as sns \\\n",
        "       ,statsmodels as sm \\\n",
        "       ,os,sys,re,openai\n",
        "from IPython.core.interactiveshell import InteractiveShell\n",
        "InteractiveShell.ast_node_interactivity = \"all\"\n",
        "%load_ext rpy2.ipython\n",
        "#pd.options.display.max_columns = 20\n",
        "#pd.options.display.max_rows = 20\n",
        "#pd.options.display.max_colwidth = 80\n",
        "np.set_printoptions(precision=4, suppress=True)\n",
        "\n",
        "def ai(pmt, model=\"gpt-3.5-turbo\", temperature=0, max_tokens=1024):\n",
        "    # Generate the response based on the provided message\n",
        "    response = openai.ChatCompletion.create(\n",
        "        model=model,\n",
        "        messages=[{\"role\": \"user\", \"content\":pmt}],\n",
        "        temperature=temperature,\n",
        "        max_tokens=max_tokens\n",
        "    ).choices[0].message['content']\n",
        "\n",
        "    # Display the message contents\n",
        "    print(f\"\\033[1m\\033[35mUser: {pmt}\\033[0m\")\n",
        "    print(f\"\\033[1m\\033[32m  AI: {response}\\033[0m\")\n",
        "\n",
        "    return response\n",
        "\n",
        "def exe(response):\n",
        "    # Extract python code from the response\n",
        "    code_blocks = re.findall(r'```python(.*?)```', response, re.DOTALL)\n",
        "\n",
        "    if code_blocks:\n",
        "        codes = [match.strip() for match in code_blocks]\n",
        "    else:\n",
        "        codes = [response.strip()]\n",
        "    # Print comment for user\n",
        "    print(\"\\033[1m\\033[35m\\nExecuting codes from OpenAI response...\\033[0m\")\n",
        "\n",
        "    # Execute the extracted code\n",
        "    for code in codes:\n",
        "        exec(code)\n",
        "\n",
        "## Example usage (get openai api key first)\n",
        "#  openai.api_key =#os.getenv(\"OPENAI_API_KEY\")\n",
        "\n",
        "#  pmt = \"py code for printing 'Hello, World!'\"\n",
        "#  response = ai(pmt)\n",
        "\n",
        "## Optional: Execute the code from the response\n",
        "#  exe(response)"
      ]
    },
    {
      "cell_type": "code",
      "source": [
        "pmt = \"py code for printing 'Hello, World!'\"\n",
        "response = ai(pmt)\n",
        "exe(response)"
      ],
      "metadata": {
        "colab": {
          "base_uri": "https://localhost:8080/"
        },
        "id": "ve_J2TLM1hhK",
        "outputId": "9ee75955-4f08-4531-8154-0a6a3fa5e44a"
      },
      "execution_count": 63,
      "outputs": [
        {
          "output_type": "stream",
          "name": "stdout",
          "text": [
            "\u001b[1m\u001b[35mUser: py code for printing 'Hello, World!'\u001b[0m\n",
            "\u001b[1m\u001b[32m  AI: print('Hello, World!')\u001b[0m\n",
            "\u001b[1m\u001b[35m\n",
            "Executing codes from OpenAI response...\u001b[0m\n",
            "Hello, World!\n"
          ]
        }
      ]
    },
    {
      "cell_type": "code",
      "source": [
        "pmt =\"py code for list all items in a pd enumerate\"\n",
        "response = ai(pmt)\n",
        "exe(response)"
      ],
      "metadata": {
        "colab": {
          "base_uri": "https://localhost:8080/"
        },
        "id": "p95v38Dw3pQ_",
        "outputId": "f86181e8-8938-4fe0-a671-04f43b97e6a6"
      },
      "execution_count": 64,
      "outputs": [
        {
          "output_type": "stream",
          "name": "stdout",
          "text": [
            "\u001b[1m\u001b[35mUser: py code for list all items in a pd enumerate\u001b[0m\n",
            "\u001b[1m\u001b[32m  AI: To list all items in a pandas DataFrame using `enumerate`, you can use the following Python code:\n",
            "\n",
            "```python\n",
            "import pandas as pd\n",
            "\n",
            "# Create a sample DataFrame\n",
            "data = {'Name': ['John', 'Emma', 'Mike'],\n",
            "        'Age': [25, 28, 30],\n",
            "        'City': ['New York', 'London', 'Paris']}\n",
            "df = pd.DataFrame(data)\n",
            "\n",
            "# Enumerate and list all items in the DataFrame\n",
            "for index, row in enumerate(df.iterrows()):\n",
            "    print(f\"Row {index + 1}:\")\n",
            "    for column, value in row[1].items():\n",
            "        print(f\"  {column}: {value}\")\n",
            "```\n",
            "\n",
            "This code will iterate over each row in the DataFrame using `iterrows()`. The `enumerate` function is used to get the index of each row. Then, for each row, it will iterate over each column and print the column name and its corresponding value.\u001b[0m\n",
            "\u001b[1m\u001b[35m\n",
            "Executing codes from OpenAI response...\u001b[0m\n",
            "Row 1:\n",
            "  Name: John\n",
            "  Age: 25\n",
            "  City: New York\n",
            "Row 2:\n",
            "  Name: Emma\n",
            "  Age: 28\n",
            "  City: London\n",
            "Row 3:\n",
            "  Name: Mike\n",
            "  Age: 30\n",
            "  City: Paris\n"
          ]
        }
      ]
    }
  ]
}